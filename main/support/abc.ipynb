{
 "cells": [
  {
   "cell_type": "code",
   "execution_count": 2,
   "metadata": {},
   "outputs": [],
   "source": [
    "import cv2 \n",
    "from matplotlib import pyplot as plt\n",
    "import numpy as np\n",
    "import Preprocess\n",
    "import DetectPlates"
   ]
  },
  {
   "cell_type": "code",
   "execution_count": 3,
   "metadata": {},
   "outputs": [
    {
     "name": "stdout",
     "output_type": "stream",
     "text": [
      "\n",
      "5 possible plates found\n",
      "[<PossiblePlate.PossiblePlate object at 0x0000026D16A48440>, <PossiblePlate.PossiblePlate object at 0x0000026D168B8A70>, <PossiblePlate.PossiblePlate object at 0x0000026D16A49670>, <PossiblePlate.PossiblePlate object at 0x0000026D16A48320>, <PossiblePlate.PossiblePlate object at 0x0000026D16A48DD0>]\n"
     ]
    }
   ],
   "source": [
    "img = cv2.imread('image/image4.jpg')\n",
    "adasd = DetectPlates.detectPlatesInScene(img)\n",
    "print(adasd)"
   ]
  },
  {
   "cell_type": "code",
   "execution_count": null,
   "metadata": {},
   "outputs": [],
   "source": []
  }
 ],
 "metadata": {
  "kernelspec": {
   "display_name": "Python 3",
   "language": "python",
   "name": "python3"
  },
  "language_info": {
   "codemirror_mode": {
    "name": "ipython",
    "version": 3
   },
   "file_extension": ".py",
   "mimetype": "text/x-python",
   "name": "python",
   "nbconvert_exporter": "python",
   "pygments_lexer": "ipython3",
   "version": "3.12.4"
  }
 },
 "nbformat": 4,
 "nbformat_minor": 2
}

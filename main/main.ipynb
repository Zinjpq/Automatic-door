{
 "cells": [
  {
   "cell_type": "code",
   "execution_count": 6,
   "metadata": {},
   "outputs": [],
   "source": [
    "import cv2\n",
    "import DetectChars\n",
    "import Preprocess"
   ]
  },
  {
   "cell_type": "code",
   "execution_count": 7,
   "metadata": {},
   "outputs": [],
   "source": [
    "# Hàm để phát hiện và vẽ hộp bao quanh biển số xe\n",
    "def detect_license_plate(image):\n",
    "    gray = cv2.cvtColor(image, cv2.COLOR_BGR2GRAY)\n",
    "    plate_cascade = cv2.CascadeClassifier(cv2.data.haarcascades + 'haarcascade_russian_plate_number.xml')\n",
    "    plates = plate_cascade.detectMultiScale(gray, scaleFactor=1.1, minNeighbors=5, minSize=(30, 30))\n",
    "\n",
    "    plate_images = []\n",
    "    for (x, y, w, h) in plates:\n",
    "        cv2.rectangle(image, (x, y), (x + w, y + h), (0, 255, 0), 2)\n",
    "        plate_images.append(gray[y:y + h, x:x + w])\n",
    "\n",
    "    return image, plate_images"
   ]
  },
  {
   "cell_type": "code",
   "execution_count": 8,
   "metadata": {},
   "outputs": [
    {
     "ename": "ValueError",
     "evalue": "not enough values to unpack (expected 3, got 2)",
     "output_type": "error",
     "traceback": [
      "\u001b[1;31m---------------------------------------------------------------------------\u001b[0m",
      "\u001b[1;31mValueError\u001b[0m                                Traceback (most recent call last)",
      "Cell \u001b[1;32mIn[8], line 5\u001b[0m\n\u001b[0;32m      1\u001b[0m img \u001b[38;5;241m=\u001b[39m cv2\u001b[38;5;241m.\u001b[39mimread(\u001b[38;5;124m'\u001b[39m\u001b[38;5;124mImage/image2.jpg\u001b[39m\u001b[38;5;124m'\u001b[39m)\n\u001b[0;32m      3\u001b[0m image, plate_images \u001b[38;5;241m=\u001b[39m detect_license_plate(img)\n\u001b[1;32m----> 5\u001b[0m imgGrayscale, imgThresh \u001b[38;5;241m=\u001b[39m  \u001b[43mPreprocess\u001b[49m\u001b[38;5;241;43m.\u001b[39;49m\u001b[43mpreprocess\u001b[49m\u001b[43m(\u001b[49m\u001b[43mplate_images\u001b[49m\u001b[43m[\u001b[49m\u001b[38;5;241;43m0\u001b[39;49m\u001b[43m]\u001b[49m\u001b[43m)\u001b[49m\n\u001b[0;32m      7\u001b[0m plt\u001b[38;5;241m.\u001b[39mimshow(cv2\u001b[38;5;241m.\u001b[39mcvtColor(imgGrayscale, cv2\u001b[38;5;241m.\u001b[39mCOLOR_BGR2RGB))\n",
      "File \u001b[1;32md:\\1.Projects\\Automatic door\\main\\Preprocess.py:14\u001b[0m, in \u001b[0;36mpreprocess\u001b[1;34m(imgOriginal)\u001b[0m\n\u001b[0;32m     13\u001b[0m \u001b[38;5;28;01mdef\u001b[39;00m \u001b[38;5;21mpreprocess\u001b[39m(imgOriginal):\n\u001b[1;32m---> 14\u001b[0m     imgGrayscale \u001b[38;5;241m=\u001b[39m \u001b[43mextractValue\u001b[49m\u001b[43m(\u001b[49m\u001b[43mimgOriginal\u001b[49m\u001b[43m)\u001b[49m\n\u001b[0;32m     16\u001b[0m     imgMaxContrastGrayscale \u001b[38;5;241m=\u001b[39m maximizeContrast(imgGrayscale)\n\u001b[0;32m     18\u001b[0m     height, width \u001b[38;5;241m=\u001b[39m imgGrayscale\u001b[38;5;241m.\u001b[39mshape\n",
      "File \u001b[1;32md:\\1.Projects\\Automatic door\\main\\Preprocess.py:31\u001b[0m, in \u001b[0;36mextractValue\u001b[1;34m(imgOriginal)\u001b[0m\n\u001b[0;32m     30\u001b[0m \u001b[38;5;28;01mdef\u001b[39;00m \u001b[38;5;21mextractValue\u001b[39m(imgOriginal):\n\u001b[1;32m---> 31\u001b[0m     height, width, numChannels \u001b[38;5;241m=\u001b[39m imgOriginal\u001b[38;5;241m.\u001b[39mshape\n\u001b[0;32m     33\u001b[0m     imgHSV \u001b[38;5;241m=\u001b[39m np\u001b[38;5;241m.\u001b[39mzeros((height, width, \u001b[38;5;241m3\u001b[39m), np\u001b[38;5;241m.\u001b[39muint8)\n\u001b[0;32m     35\u001b[0m     imgHSV \u001b[38;5;241m=\u001b[39m cv2\u001b[38;5;241m.\u001b[39mcvtColor(imgOriginal, cv2\u001b[38;5;241m.\u001b[39mCOLOR_BGR2HSV)\n",
      "\u001b[1;31mValueError\u001b[0m: not enough values to unpack (expected 3, got 2)"
     ]
    }
   ],
   "source": [
    "img = cv2.imread('Image/image2.jpg')\n",
    "\n",
    "image, plate_images = detect_license_plate(img)\n",
    "\n",
    "imgGrayscale, imgThresh =  Preprocess.preprocess(plate_images[0])\n",
    "\n",
    "plt.imshow(cv2.cvtColor(imgGrayscale, cv2.COLOR_BGR2RGB))"
   ]
  }
 ],
 "metadata": {
  "kernelspec": {
   "display_name": "Python 3",
   "language": "python",
   "name": "python3"
  },
  "language_info": {
   "codemirror_mode": {
    "name": "ipython",
    "version": 3
   },
   "file_extension": ".py",
   "mimetype": "text/x-python",
   "name": "python",
   "nbconvert_exporter": "python",
   "pygments_lexer": "ipython3",
   "version": "3.12.4"
  }
 },
 "nbformat": 4,
 "nbformat_minor": 2
}

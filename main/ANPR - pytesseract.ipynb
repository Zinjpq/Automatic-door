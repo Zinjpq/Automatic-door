{
 "cells": [
  {
   "cell_type": "markdown",
   "metadata": {},
   "source": [
    "## Library"
   ]
  },
  {
   "cell_type": "code",
   "execution_count": null,
   "metadata": {},
   "outputs": [],
   "source": [
    "import urllib.request\n",
    "import cv2\n",
    "import numpy as np\n",
    "import pytesseract\n",
    "import os"
   ]
  },
  {
   "cell_type": "markdown",
   "metadata": {},
   "source": [
    "## URL and set im"
   ]
  },
  {
   "cell_type": "code",
   "execution_count": null,
   "metadata": {},
   "outputs": [],
   "source": [
    "url = 'http://192.168.3.56/cam-hi.jpg'\n",
    "im = None"
   ]
  },
  {
   "cell_type": "markdown",
   "metadata": {},
   "source": [
    "## Vòng While để lấy hình ảnh"
   ]
  },
  {
   "cell_type": "code",
   "execution_count": null,
   "metadata": {},
   "outputs": [],
   "source": [
    "while True:\n",
    "    cv2.namedWindow(\"Test\", cv2.WINDOW_AUTOSIZE)\n",
    "    \n",
    "    img_resp = urllib.request.urlopen(url)\n",
    "    imgnp = np.array(bytearray(img_resp.read()), dtype=np.uint8)\n",
    "    image = cv2.imdecode(imgnp, -1)\n",
    "\n",
    "    gray = cv2.cvtColor(image, cv2.COLOR_BGR2GRAY)\n",
    "    \n",
    "    # Áp dụng lọc Gaussian để làm mượt hình ảnh\n",
    "    blurred = cv2.GaussianBlur(gray, (5, 5), 0)\n",
    "\n",
    "    plate_cascade = cv2.CascadeClassifier(cv2.data.haarcascades + 'haarcascade_russian_plate_number.xml')\n",
    "    plates = plate_cascade.detectMultiScale(blurred, scaleFactor=1.1, minNeighbors=5, minSize=(50, 50))\n",
    "\n",
    "    plate_images = []\n",
    "    for (x, y, w, h) in plates: \n",
    "        cv2.rectangle(image, (x, y), (x + w, y + h), (0, 255, 0), 2)\n",
    "        plate_img = gray[y:y + h, x:x + w]\n",
    "        plate_images.append(plate_img)\n",
    "\n",
    "    # Hiển thị ảnh gốc và ảnh xám\n",
    "    cv2.imshow('Test Original', image)\n",
    "    cv2.imshow('Test Grayscale', gray)\n",
    "\n",
    "    # Nhận diện ký tự \n",
    "    key = cv2.waitKey(5)\n",
    "    if key == ord('q'):\n",
    "        break\n",
    "\n",
    "cv2.destroyAllWindows()"
   ]
  },
  {
   "cell_type": "markdown",
   "metadata": {},
   "source": [
    "## Đọc tên biển"
   ]
  },
  {
   "cell_type": "code",
   "execution_count": null,
   "metadata": {},
   "outputs": [],
   "source": [
    "for plate_image in plate_images:\n",
    "    plate_text = pytesseract.image_to_string(plate_image,config='--psm 8')\n",
    "plate_text.strip()"
   ]
  },
  {
   "cell_type": "markdown",
   "metadata": {},
   "source": [
    "## Xet xem bien co hop le hay khong"
   ]
  },
  {
   "cell_type": "code",
   "execution_count": null,
   "metadata": {},
   "outputs": [],
   "source": [
    "# patterns = [r'^\\d{2}[A-Z]{1}\\s\\d{3}\\.\\d{2}$',  # Pattern cho định dạng 1\n",
    "#             r'^\\d{2}[A-Z]{1}\\s\\d{2,3}\\.\\d{2}$']  # Pattern cho định dạng 2"
   ]
  },
  {
   "cell_type": "markdown",
   "metadata": {},
   "source": [
    "## Luu anh ve file"
   ]
  },
  {
   "cell_type": "code",
   "execution_count": null,
   "metadata": {},
   "outputs": [],
   "source": [
    "output_dir = 'recovery'\n",
    "if not os.path.exists(output_dir):\n",
    "    os.makedirs(output_dir)\n",
    "# Lưu các hình ảnh vào thư mục recovery\n",
    "for i, plate_img in enumerate(plate_images):\n",
    "    filename = os.path.join(output_dir, f'plate_{i}.png')\n",
    "    cv2.imwrite(filename, plate_img)\n",
    "    print(f'Saved {filename}')"
   ]
  }
 ],
 "metadata": {
  "kernelspec": {
   "display_name": "Python 3",
   "language": "python",
   "name": "python3"
  },
  "language_info": {
   "codemirror_mode": {
    "name": "ipython",
    "version": 3
   },
   "file_extension": ".py",
   "mimetype": "text/x-python",
   "name": "python",
   "nbconvert_exporter": "python",
   "pygments_lexer": "ipython3",
   "version": "3.12.4"
  }
 },
 "nbformat": 4,
 "nbformat_minor": 2
}
